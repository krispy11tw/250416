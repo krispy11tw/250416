{
  "nbformat": 4,
  "nbformat_minor": 0,
  "metadata": {
    "colab": {
      "provenance": [],
      "authorship_tag": "ABX9TyO+w0FuK1sZQRQHMfo6T6KX",
      "include_colab_link": true
    },
    "kernelspec": {
      "name": "python3",
      "display_name": "Python 3"
    },
    "language_info": {
      "name": "python"
    }
  },
  "cells": [
    {
      "cell_type": "markdown",
      "metadata": {
        "id": "view-in-github",
        "colab_type": "text"
      },
      "source": [
        "<a href=\"https://colab.research.google.com/github/krispy11tw/250416/blob/main/%E5%87%BD%E5%BC%8F%E5%92%8C%E7%89%A9%E4%BB%B6%E5%B0%8E%E5%90%91.ipynb\" target=\"_parent\"><img src=\"https://colab.research.google.com/assets/colab-badge.svg\" alt=\"Open In Colab\"/></a>"
      ]
    },
    {
      "cell_type": "code",
      "execution_count": 4,
      "metadata": {
        "colab": {
          "base_uri": "https://localhost:8080/"
        },
        "id": "vvx20n4OZE5Q",
        "outputId": "0760a5d9-0be2-4899-f477-54f19c1d5d5a"
      },
      "outputs": [
        {
          "output_type": "stream",
          "name": "stdout",
          "text": [
            "26.1224\n",
            "26.12\n"
          ]
        }
      ],
      "source": [
        "# 函式定義\n",
        "# 定義參數: 預先定義一個參數代號名稱\n",
        "# 定義回傳值: return, 你沒有寫return 就相當於寫 return None\n",
        "\n",
        "#以bmi程式為例\n",
        "\n",
        "weight = 80\n",
        "height = 175\n",
        "\n",
        "def caculate_bmi(w, h, d=2):\n",
        "    bmi = w / (h / 100) ** 2\n",
        "    return round(bmi, d)\n",
        "\n",
        "print(caculate_bmi(weight, height, 4))\n",
        "print(caculate_bmi(weight, height))"
      ]
    },
    {
      "cell_type": "code",
      "source": [
        "# 物件導向: 自訂型態\n",
        "# 自訂型態請以\"首字母大寫字母\"開始\n",
        "class Person:\n",
        "\n",
        "    def set_data(self, w, h):\n",
        "        self.weight = w\n",
        "        self.height = h\n",
        "\n",
        "    def caculate_bmi(self, d=2):\n",
        "        bmi = self.weight / (self.height / 100) ** 2\n",
        "        return round(bmi, d)\n",
        "\n",
        "# 1個型態可以擁有的兩種東西\n",
        "# 1.專屬功能: 人.吃飯()\n",
        "# 2.專屬值: 人.身高\n",
        "p1 = Person()\n",
        "p1.set_data(80, 175)\n",
        "print(p1.caculate_bmi(d=4))"
      ],
      "metadata": {
        "id": "vzW306GEsEU-"
      },
      "execution_count": null,
      "outputs": []
    },
    {
      "cell_type": "code",
      "source": [
        "# 物件導向客製化\n",
        "# 有2個下底線(__)*2的型態為預設型態\n",
        "#\n",
        "class Person:\n",
        "\n",
        "\n",
        "    def __init__(self, w, h):\n",
        "        self.weight = w\n",
        "        self.height = h\n",
        "\n",
        "    def caculate_bmi(self, d=2):\n",
        "        bmi = self.weight / (self.height / 100) ** 2\n",
        "        return round(bmi, d)\n",
        "\n",
        "    def __str__(self):\n",
        "        return \"[weight]:{} [height]:{}\".format(self.weight,\n",
        "                                                self.height)\n",
        "    def __eq__(self, other):\n",
        "        return (self.height == other.height and\n",
        "                self.weight == other.height)\n",
        "# 1個型態可以擁有的兩種東西\n",
        "# 1.專屬功能: 人.吃飯()\n",
        "# 2.專屬值: 人.身高\n",
        "p1 = Person(80, 175)\n",
        "print(p1.caculate_bmi(d=4))\n",
        "\n",
        "#print(p1) -> p1轉成字串 -> str(p1) ->p1.__str__()\n",
        "print(p1)\n",
        "\n",
        "\n",
        "p2= Person(80,175)\n",
        "#print(p1 == p2) -> p1.__eq__(p2)\n",
        "print(p1 == p2)"
      ],
      "metadata": {
        "colab": {
          "base_uri": "https://localhost:8080/"
        },
        "id": "L2UnBH6Ac17B",
        "outputId": "64bf1716-f6cd-4dc8-b2f8-4c2ba6cac078"
      },
      "execution_count": 18,
      "outputs": [
        {
          "output_type": "stream",
          "name": "stdout",
          "text": [
            "26.1224\n",
            "[weight]:80 [height]:175\n",
            "False\n"
          ]
        }
      ]
    }
  ]
}