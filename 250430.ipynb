{
  "nbformat": 4,
  "nbformat_minor": 0,
  "metadata": {
    "colab": {
      "provenance": [],
      "authorship_tag": "ABX9TyNc+VCf0tmyRuGwld6RNta+",
      "include_colab_link": true
    },
    "kernelspec": {
      "name": "python3",
      "display_name": "Python 3"
    },
    "language_info": {
      "name": "python"
    }
  },
  "cells": [
    {
      "cell_type": "markdown",
      "metadata": {
        "id": "view-in-github",
        "colab_type": "text"
      },
      "source": [
        "<a href=\"https://colab.research.google.com/github/krispy11tw/250416/blob/main/250430.ipynb\" target=\"_parent\"><img src=\"https://colab.research.google.com/assets/colab-badge.svg\" alt=\"Open In Colab\"/></a>"
      ]
    },
    {
      "cell_type": "code",
      "execution_count": 2,
      "metadata": {
        "id": "zT-XG9hyaO91"
      },
      "outputs": [],
      "source": [
        "import json\n",
        "import urllib.request as req\n",
        "import bs4 as bs\n",
        "\n",
        "def save_post_meta(url):\n",
        "    # url = \"https://www.ptt.cc/bbs/Beauty/M.1745582404.A.011.html\"\n",
        "    r = req.Request(url)\n",
        "    r.add_header(\"User-Agent\", \"Mozilla/5.0 (Windows NT 10.0; Win64; x64) AppleWebKit/537.36 (KHTML, like Gecko) Chrome/135.0.0.0 Safari/537.36 Edg/135.0.0.0\")\n",
        "    resp = req.urlopen(r)\n",
        "    html = bs.BeautifulSoup(resp.read())\n",
        "    # 作者/看版/標題/日期\n",
        "    metas = html.find_all(\"span\", {\"class\":\"article-meta-value\"})\n",
        "    uid_text = metas[0].text\n",
        "    board_text = metas[1].text\n",
        "    title_text = metas[2].text\n",
        "    time_text = metas[3].text\n",
        "    # print(uid_text, board_text, title_text, time_text, sep=\"\\n\")\n",
        "    # 每個推虛文 [{\"type\":\"\", \"id\":\"\", \"text\":\"\", \"date_ip\":\"\"}]\n",
        "    # JSON格式: {\"左者\": \"看板\": \"表提\": \"推虛文\":[]}\n",
        "    push_list = []\n",
        "    pushes = html.find_all(\"div\", {\"class\":\"push\"})\n",
        "    for push in pushes:\n",
        "        push_meta = push.find_all(\"span\")\n",
        "        # 推噓處理\n",
        "        push_type_text = push_meta[0].text\n",
        "        if \"推\" in push_type_text:\n",
        "            push_type_text = 1\n",
        "        elif \"噓\" in push_type_text:\n",
        "            push_type_text = -1\n",
        "        else:\n",
        "            push_type_text = 0\n",
        "        # 推噓id\n",
        "        push_id_text = push_meta[1].text\n",
        "        # 推噓內容\n",
        "        push_content_text = push_meta[2].text.replace(\": \", \"\")\n",
        "        # 推噓ipdate\n",
        "        push_ipdate_text = push_meta[3].text.strip()\n",
        "        # print(push_type_text, push_id_text, push_content_text, push_ipdate_text, sep=\"\\t\")\n",
        "        push_data = {\n",
        "            \"type\":push_type_text,\n",
        "            \"id\":push_id_text,\n",
        "            \"text\":push_content_text,\n",
        "            \"date_ip\":push_ipdate_text\n",
        "        }\n",
        "        push_list.append(push_data)\n",
        "    # print(push_list)\n",
        "    post = {\n",
        "        \"作者\":uid_text,\n",
        "        \"看板\":board_text,\n",
        "        \"標題\":title_text,\n",
        "        \"日期\":time_text,\n",
        "        \"推噓文\":push_list,\n",
        "    }\n",
        "    # print(post)\n",
        "    fn = url.split(\"/\")[-1] + \".json\"\n",
        "    with open(fn, \"w\", encoding=\"utf-8\") as f:\n",
        "        json.dump(post, f, ensure_ascii=False, indent=4)"
      ]
    },
    {
      "cell_type": "markdown",
      "source": [
        "`````\n",
        "當你發現你沒有class/id做篩選的時候\n",
        "1. 找他老爸\n",
        "2. 自己想辦法篩選\n",
        "`````"
      ],
      "metadata": {
        "id": "FoxrnckNdN2_"
      }
    },
    {
      "cell_type": "code",
      "source": [
        "import json\n",
        "import urllib.request as req\n",
        "import bs4 as bs\n",
        "\n",
        "url = \"https://www.ptt.cc/bbs/Beauty/M.1745582404.A.011.html\"\n",
        "r = req.Request(url)\n",
        "r.add_header(\"User-Agent\", \"Mozilla/5.0 (Windows NT 10.0; Win64; x64) AppleWebKit/537.36 (KHTML, like Gecko) Chrome/135.0.0.0 Safari/537.36 Edg/135.0.0.0\")\n",
        "resp = req.urlopen(r)\n",
        "html = bs.BeautifulSoup(resp.read())\n",
        "\n",
        "allow_sub = [\"jpg\", \"jpeg\", \"png\", \"gif\"]\n",
        "link_list = html.find_all(\"a\")\n",
        "for link in link_list:\n",
        "    link_href = link[\"href\"]\n",
        "    sub = link_href.split(\".\")[-1]\n",
        "    # lower是字串的專屬功能\n",
        "    if sub.lower() in allow_sub:\n",
        "        print(link_href)"
      ],
      "metadata": {
        "id": "Q1iai-GXdRSc"
      },
      "execution_count": null,
      "outputs": []
    }
  ]
}