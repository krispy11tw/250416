{
  "nbformat": 4,
  "nbformat_minor": 0,
  "metadata": {
    "colab": {
      "provenance": [],
      "authorship_tag": "ABX9TyOXBdRADAp4yi66xfYRtrcO",
      "include_colab_link": true
    },
    "kernelspec": {
      "name": "python3",
      "display_name": "Python 3"
    },
    "language_info": {
      "name": "python"
    }
  },
  "cells": [
    {
      "cell_type": "markdown",
      "metadata": {
        "id": "view-in-github",
        "colab_type": "text"
      },
      "source": [
        "<a href=\"https://colab.research.google.com/github/krispy11tw/250416/blob/main/250430.ipynb\" target=\"_parent\"><img src=\"https://colab.research.google.com/assets/colab-badge.svg\" alt=\"Open In Colab\"/></a>"
      ]
    },
    {
      "cell_type": "code",
      "execution_count": 2,
      "metadata": {
        "id": "zT-XG9hyaO91"
      },
      "outputs": [],
      "source": [
        "import json\n",
        "import urllib.request as req\n",
        "import bs4 as bs\n",
        "\n",
        "# 先定義好函式:\n",
        "# save_post_meta\n",
        "def save_post_meta(url):\n",
        "    # url = \"https://www.ptt.cc/bbs/Beauty/M.1745582404.A.011.html\"\n",
        "    r = req.Request(url)\n",
        "    r.add_header(\"User-Agent\", \"Mozilla/5.0 (Windows NT 10.0; Win64; x64) AppleWebKit/537.36 (KHTML, like Gecko) Chrome/135.0.0.0 Safari/537.36 Edg/135.0.0.0\")\n",
        "    resp = req.urlopen(r)\n",
        "    html = bs.BeautifulSoup(resp.read())\n",
        "    # 作者/看版/標題/日期\n",
        "    metas = html.find_all(\"span\", {\"class\":\"article-meta-value\"})\n",
        "    uid_text = metas[0].text\n",
        "    board_text = metas[1].text\n",
        "    title_text = metas[2].text\n",
        "    time_text = metas[3].text\n",
        "    # print(uid_text, board_text, title_text, time_text, sep=\"\\n\")\n",
        "    # 每個推虛文 [{\"type\":\"\", \"id\":\"\", \"text\":\"\", \"date_ip\":\"\"}]\n",
        "    # JSON格式: {\"左者\": \"看板\": \"表提\": \"推虛文\":[]}\n",
        "    push_list = []\n",
        "    pushes = html.find_all(\"div\", {\"class\":\"push\"})\n",
        "    for push in pushes:\n",
        "        push_meta = push.find_all(\"span\")\n",
        "        # 推噓處理\n",
        "        push_type_text = push_meta[0].text\n",
        "        if \"推\" in push_type_text:\n",
        "            push_type_text = 1\n",
        "        elif \"噓\" in push_type_text:\n",
        "            push_type_text = -1\n",
        "        else:\n",
        "            push_type_text = 0\n",
        "        # 推噓id\n",
        "        push_id_text = push_meta[1].text\n",
        "        # 推噓內容\n",
        "        push_content_text = push_meta[2].text.replace(\": \", \"\")\n",
        "        # 推噓ipdate\n",
        "        push_ipdate_text = push_meta[3].text.strip()\n",
        "        # print(push_type_text, push_id_text, push_content_text, push_ipdate_text, sep=\"\\t\")\n",
        "        push_data = {\n",
        "            \"type\":push_type_text,\n",
        "            \"id\":push_id_text,\n",
        "            \"text\":push_content_text,\n",
        "            \"date_ip\":push_ipdate_text\n",
        "        }\n",
        "        push_list.append(push_data)\n",
        "    # print(push_list)\n",
        "    post = {\n",
        "        \"作者\":uid_text,\n",
        "        \"看板\":board_text,\n",
        "        \"標題\":title_text,\n",
        "        \"日期\":time_text,\n",
        "        \"推噓文\":push_list,\n",
        "    }\n",
        "    # print(post)\n",
        "    fn = url.split(\"/\")[-1] + \".json\"\n",
        "    with open(fn, \"w\", encoding=\"utf-8\") as f:\n",
        "        json.dump(post, f, ensure_ascii=False, indent=4)"
      ]
    },
    {
      "cell_type": "markdown",
      "source": [
        "`````\n",
        "當你發現你沒有class/id做篩選的時候\n",
        "1. 找他老爸\n",
        "2. 自己想辦法篩選\n",
        "`````"
      ],
      "metadata": {
        "id": "FoxrnckNdN2_"
      }
    },
    {
      "cell_type": "code",
      "source": [
        "import json\n",
        "import urllib.request as req\n",
        "import bs4 as bs\n",
        "\n",
        "url = \"https://www.ptt.cc/bbs/Beauty/M.1745582404.A.011.html\"\n",
        "r = req.Request(url)\n",
        "r.add_header(\"User-Agent\", \"Mozilla/5.0 (Windows NT 10.0; Win64; x64) AppleWebKit/537.36 (KHTML, like Gecko) Chrome/135.0.0.0 Safari/537.36 Edg/135.0.0.0\")\n",
        "resp = req.urlopen(r)\n",
        "html = bs.BeautifulSoup(resp.read())\n",
        "\n",
        "allow_sub = [\"jpg\", \"jpeg\", \"png\", \"gif\"]\n",
        "link_list = html.find_all(\"a\")\n",
        "for link in link_list:\n",
        "    link_href = link[\"href\"]\n",
        "    sub = link_href.split(\".\")[-1]\n",
        "    # lower是字串的專屬功能\n",
        "    if sub.lower() in allow_sub:\n",
        "        print(link_href)"
      ],
      "metadata": {
        "colab": {
          "base_uri": "https://localhost:8080/"
        },
        "id": "Q1iai-GXdRSc",
        "outputId": "ced1c590-4b44-47fc-e3bd-a2d4d5e45bd0"
      },
      "execution_count": 4,
      "outputs": [
        {
          "output_type": "stream",
          "name": "stdout",
          "text": [
            "https://i.imgur.com/S20cVi5.jpeg\n",
            "https://i.imgur.com/drwno1X.jpeg\n",
            "https://i.imgur.com/BcT3DCj.jpeg\n",
            "https://i.imgur.com/lSsIOH6.jpeg\n",
            "https://i.imgur.com/ZlZXDz3.jpeg\n",
            "https://i.imgur.com/A84pbtB.jpeg\n",
            "https://i.imgur.com/jxBcoCS.jpeg\n",
            "https://i.imgur.com/aqvICAJ.jpeg\n",
            "https://i.imgur.com/4E9ZS1L.jpeg\n",
            "https://i.imgur.com/QKtIEwK.jpeg\n",
            "https://i.imgur.com/Dfdvviy.jpeg\n",
            "https://i.meee.com.tw/hNil3HB.gif\n",
            "https://i.meee.com.tw/ADxUv1E.gif\n"
          ]
        }
      ]
    },
    {
      "cell_type": "code",
      "source": [
        "\n",
        "# os.path這件事我們後面會解釋\n",
        "import os\n",
        "# 如果資料夾不存在, 就創起來\n",
        "if not os.path.exists(\"a/b\"):\n",
        "    os.makedirs(\"a/b\")\n",
        "\n",
        "img_url = \"https://i.imgur.com/S20cVi5.jpeg\"\n",
        "# 如果對面什麼都沒檢查, 最簡單的一訂是urlretrieve\n",
        "r = req.Request(img_url)\n",
        "r.add_header(\"User-Agent\", \"Mozilla/5.0 (Windows NT 10.0; Win64; x64) AppleWebKit/537.36 (KHTML, like Gecko) Chrome/135.0.0.0 Safari/537.36 Edg/135.0.0.0\")\n",
        "img_resp = req.urlopen(r)\n",
        "img_content = img_resp.read()\n",
        "# 存檔的時候 你要開啟檔案在本地端, 把剛才的內容寫進去\n",
        "# 之前教你open的時候, 第二個參數 w r  + encoding=\"utf-8\" -> for 純文字\n",
        "#                              wb rb -> for 非純文字\n",
        "with open(\"a/b/test.png\", \"wb\") as f:\n",
        "    f.write(img_content)"
      ],
      "metadata": {
        "id": "izfF7YF3fpRm"
      },
      "execution_count": 7,
      "outputs": []
    },
    {
      "cell_type": "code",
      "source": [
        "\n",
        "\n",
        "import json\n",
        "import urllib.request as req\n",
        "import bs4 as bs\n",
        "import os\n",
        "\n",
        "url = \"https://www.ptt.cc/bbs/Beauty/M.1745582404.A.011.html\"\n",
        "# prepare directory\n",
        "dn = url.split(\"/\")[-1]\n",
        "if not os.path.exists(dn):\n",
        "    os.makedirs(dn)\n",
        "\n",
        "r = req.Request(url)\n",
        "r.add_header(\"User-Agent\", \"Mozilla/5.0 (Windows NT 10.0; Win64; x64) AppleWebKit/537.36 (KHTML, like Gecko) Chrome/135.0.0.0 Safari/537.36 Edg/135.0.0.0\")\n",
        "resp = req.urlopen(r)\n",
        "html = bs.BeautifulSoup(resp.read())\n",
        "\n",
        "allow_sub = [\"jpg\", \"jpeg\", \"png\", \"gif\"]\n",
        "link_list = html.find_all(\"a\")\n",
        "for link in link_list:\n",
        "    link_href = link[\"href\"]\n",
        "    sub = link_href.split(\".\")[-1]\n",
        "    # lower是字串的專屬功能\n",
        "    if sub.lower() in allow_sub:\n",
        "        img_url = link_href\n",
        "        # 如果對面什麼都沒檢查, 最簡單的一訂是urlretrieve\n",
        "        r = req.Request(img_url)\n",
        "        r.add_header(\"User-Agent\", \"Mozilla/5.0 (Windows NT 10.0; Win64; x64) AppleWebKit/537.36 (KHTML, like Gecko) Chrome/135.0.0.0 Safari/537.36 Edg/135.0.0.0\")\n",
        "        img_resp = req.urlopen(r)\n",
        "        img_content = img_resp.read()\n",
        "        # 存檔的時候 你要開啟檔案在本地端, 把剛才的內容寫進去\n",
        "        # 之前教你open的時候, 第二個參數 w r  + encoding=\"utf-8\" -> for 純文字\n",
        "        #                              wb rb -> for 非純文字\n",
        "        fn = dn + \"/\" + img_url.split(\"/\")[-1]\n",
        "        with open(fn, \"wb\") as f:\n",
        "            f.write(img_content)"
      ],
      "metadata": {
        "id": "6YHGyJx6j0Xr"
      },
      "execution_count": 8,
      "outputs": []
    },
    {
      "cell_type": "code",
      "source": [
        "import json\n",
        "import urllib.request as req\n",
        "import bs4 as bs\n",
        "import os\n",
        "\n",
        "# 先定義好函式:\n",
        "# save_post_img\n",
        "\n",
        "def save_post_img(url):\n",
        "    # url = \"https://www.ptt.cc/bbs/Beauty/M.1745582404.A.011.html\"\n",
        "    # prepare directory\n",
        "    dn = url.split(\"/\")[-1]\n",
        "    if not os.path.exists(dn):\n",
        "        os.makedirs(dn)\n",
        "\n",
        "    r = req.Request(url)\n",
        "    r.add_header(\"User-Agent\", \"Mozilla/5.0 (Windows NT 10.0; Win64; x64) AppleWebKit/537.36 (KHTML, like Gecko) Chrome/135.0.0.0 Safari/537.36 Edg/135.0.0.0\")\n",
        "    resp = req.urlopen(r)\n",
        "    html = bs.BeautifulSoup(resp.read())\n",
        "\n",
        "    allow_sub = [\"jpg\", \"jpeg\", \"png\", \"gif\"]\n",
        "    link_list = html.find_all(\"a\")\n",
        "    for link in link_list:\n",
        "        link_href = link[\"href\"]\n",
        "        sub = link_href.split(\".\")[-1]\n",
        "        # lower是字串的專屬功能\n",
        "        if sub.lower() in allow_sub:\n",
        "            img_url = link_href\n",
        "            # 如果對面什麼都沒檢查, 最簡單的一訂是urlretrieve\n",
        "            r = req.Request(img_url)\n",
        "            r.add_header(\"User-Agent\", \"Mozilla/5.0 (Windows NT 10.0; Win64; x64) AppleWebKit/537.36 (KHTML, like Gecko) Chrome/135.0.0.0 Safari/537.36 Edg/135.0.0.0\")\n",
        "            img_resp = req.urlopen(r)\n",
        "            img_content = img_resp.read()\n",
        "            # 存檔的時候 你要開啟檔案在本地端, 把剛才的內容寫進去\n",
        "            # 之前教你open的時候, 第二個參數 w r  + encoding=\"utf-8\" -> for 純文字\n",
        "            #                              wb rb -> for 非純文字\n",
        "            fn = dn + \"/\" + img_url.split(\"/\")[-1]\n",
        "            with open(fn, \"wb\") as f:\n",
        "                f.write(img_content)"
      ],
      "metadata": {
        "id": "tXWF-fSevRhg"
      },
      "execution_count": 18,
      "outputs": []
    },
    {
      "cell_type": "code",
      "source": [
        "\n",
        "#練習:獲取ptt表特版的一整頁網址\n",
        "\n",
        "import json\n",
        "import urllib.request as req\n",
        "import bs4 as bs\n",
        "import os\n",
        "\n",
        "url = \"https://www.ptt.cc/bbs/Beauty/index4000.html\"\n",
        "r = req.Request(url)\n",
        "r.add_header(\"User-Agent\", \"Mozilla/5.0 (Windows NT 10.0; Win64; x64) AppleWebKit/537.36 (KHTML, like Gecko) Chrome/135.0.0.0 Safari/537.36 Edg/135.0.0.0\")\n",
        "resp = req.urlopen(r)\n",
        "html = bs.BeautifulSoup(resp.read())\n",
        "\n",
        "div_list = html.find_all(\"div\", {\"class\":\"title\"})\n",
        "for div in div_list:\n",
        "    post_link = div.find(\"a\")\n",
        "    if not post_link == None:\n",
        "        post_link_url = \"https://www.ptt.cc\" + post_link[\"href\"]\n",
        "        print(post_link_url)\n",
        "        save_post_meta(post_link_url)\n",
        "        save_post_img(post_link_url)"
      ],
      "metadata": {
        "colab": {
          "base_uri": "https://localhost:8080/"
        },
        "id": "UBpHeEuFn4sL",
        "outputId": "0c1852f0-f88e-477b-9252-73018947f780"
      },
      "execution_count": 19,
      "outputs": [
        {
          "output_type": "stream",
          "name": "stdout",
          "text": [
            "https://www.ptt.cc/bbs/Beauty/M.1745759627.A.BA1.html\n",
            "https://www.ptt.cc/bbs/Beauty/M.1745763958.A.745.html\n",
            "https://www.ptt.cc/bbs/Beauty/M.1745785036.A.560.html\n",
            "https://www.ptt.cc/bbs/Beauty/M.1745785622.A.395.html\n",
            "https://www.ptt.cc/bbs/Beauty/M.1745785821.A.BAC.html\n",
            "https://www.ptt.cc/bbs/Beauty/M.1745807999.A.1D6.html\n",
            "https://www.ptt.cc/bbs/Beauty/M.1745808444.A.680.html\n",
            "https://www.ptt.cc/bbs/Beauty/M.1745816387.A.7E2.html\n",
            "https://www.ptt.cc/bbs/Beauty/M.1745817760.A.93F.html\n",
            "https://www.ptt.cc/bbs/Beauty/M.1745822327.A.B6D.html\n",
            "https://www.ptt.cc/bbs/Beauty/M.1745824168.A.272.html\n",
            "https://www.ptt.cc/bbs/Beauty/M.1745829911.A.9DC.html\n",
            "https://www.ptt.cc/bbs/Beauty/M.1745835734.A.581.html\n",
            "https://www.ptt.cc/bbs/Beauty/M.1745839803.A.B32.html\n",
            "https://www.ptt.cc/bbs/Beauty/M.1745842649.A.10F.html\n",
            "https://www.ptt.cc/bbs/Beauty/M.1745843241.A.FF8.html\n",
            "https://www.ptt.cc/bbs/Beauty/M.1745843920.A.C44.html\n",
            "https://www.ptt.cc/bbs/Beauty/M.1745846671.A.EB9.html\n"
          ]
        }
      ]
    },
    {
      "cell_type": "code",
      "source": [
        "# 如果你要把雲端硬碟當成隨身碟\n",
        "\n",
        "\n",
        "# dn = \"drive/MyDrive/tiba0430\"\n",
        "# if not os.path.exists(dn):\n",
        "#    os.makedirs(dn)\n",
        "# fn = dn + \"/\" + \"a.txt\"\n",
        "# with open(fn, \"w\", encoding=\"utf-8\") as f:\n",
        "#    f.write(\"abcde\")"
      ],
      "metadata": {
        "id": "WIyh4eF7z9py"
      },
      "execution_count": null,
      "outputs": []
    },
    {
      "cell_type": "code",
      "source": [
        "# 如果要將資料夾以壓縮檔方式下載\n",
        "# 使用命令列\n",
        "# !zip -r /content/file.zip + 檔案路徑"
      ],
      "metadata": {
        "id": "Bb1jU40O0OFp"
      },
      "execution_count": null,
      "outputs": []
    }
  ]
}