{
  "nbformat": 4,
  "nbformat_minor": 0,
  "metadata": {
    "colab": {
      "provenance": [],
      "authorship_tag": "ABX9TyO8yZxrgY3DbGGU22N0QBMt",
      "include_colab_link": true
    },
    "kernelspec": {
      "name": "python3",
      "display_name": "Python 3"
    },
    "language_info": {
      "name": "python"
    }
  },
  "cells": [
    {
      "cell_type": "markdown",
      "metadata": {
        "id": "view-in-github",
        "colab_type": "text"
      },
      "source": [
        "<a href=\"https://colab.research.google.com/github/krispy11tw/250416/blob/main/%E5%89%AA%E5%88%80%E7%9F%B3%E9%A0%AD%E5%B8%83%E7%A8%8B%E5%BC%8F.ipynb\" target=\"_parent\"><img src=\"https://colab.research.google.com/assets/colab-badge.svg\" alt=\"Open In Colab\"/></a>"
      ]
    },
    {
      "cell_type": "markdown",
      "source": [
        "[剪刀石頭布程式]"
      ],
      "metadata": {
        "id": "XP1W5kmmp9K9"
      }
    },
    {
      "cell_type": "code",
      "execution_count": 2,
      "metadata": {
        "colab": {
          "base_uri": "https://localhost:8080/"
        },
        "id": "LbzHMFdAoifP",
        "outputId": "f29e7104-a29f-48aa-a88e-d02b0824cd6c"
      },
      "outputs": [
        {
          "output_type": "stream",
          "name": "stdout",
          "text": [
            "請輸入 0.剪刀 1.石頭 2.布1\n",
            "------------------------------\n",
            "你選擇出 石頭\n",
            "電腦選擇出 剪刀\n",
            "勝利\n",
            "------------------------------\n"
          ]
        }
      ],
      "source": [
        "import random\n",
        "\n",
        "my = int(input(\"請輸入 0.剪刀 1.石頭 2.布\"))\n",
        "com = random.randint(0, 2)\n",
        "trans = [\"剪刀\" ,\"石頭\" ,\"布\"]\n",
        "print(\"-\" * 30)\n",
        "print(\"你選擇出\",trans[my])\n",
        "print(\"電腦選擇出\",trans[com])\n",
        "\n",
        "if my == (com +1)%3:\n",
        "    print(\"勝利\")\n",
        "elif com == (my +1)%3:\n",
        "    print(\"失敗\")\n",
        "else :\n",
        "    print(\"難分軒輊\")\n",
        "print(\"-\" * 30)"
      ]
    },
    {
      "cell_type": "markdown",
      "source": [
        "** import 為引用程式\n",
        "\n",
        "** random 為python的機率公式之一\n",
        "\n",
        "** randint 為 random + int >>即\"隨機的整數\"\n",
        "\n",
        "** 此程式核心邏輯在於:使用 <取餘數> 概念將所有剪刀石頭布的遊戲組合進行循環組合"
      ],
      "metadata": {
        "id": "8Kq-ESm7o_WX"
      }
    },
    {
      "cell_type": "markdown",
      "source": [
        "[棒打老虎雞吃蟲程式]"
      ],
      "metadata": {
        "id": "m5ajDgU0qFoS"
      }
    },
    {
      "cell_type": "code",
      "source": [
        "import random\n",
        "\n",
        "my = int(input(\"0.棒 1.虎 2.雞 3.蟲:\"))\n",
        "com = random.randint(0, 3)\n",
        "trans = [\"棒\", \"虎\", \"雞\", \"蟲\"]\n",
        "print(\"我出的:\", trans[my])\n",
        "print(\"電腦的:\", trans[com])\n",
        "\n",
        "if my == (com + 1) % 4:\n",
        "    print(\"WIN\")\n",
        "elif com == (my + 1) % 4:\n",
        "    print(\"LOSE\")\n",
        "else:\n",
        "    print(\"EVEN\")"
      ],
      "metadata": {
        "id": "Zl9-DhUqp7Pt"
      },
      "execution_count": null,
      "outputs": []
    }
  ]
}