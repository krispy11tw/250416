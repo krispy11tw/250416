{
  "nbformat": 4,
  "nbformat_minor": 0,
  "metadata": {
    "colab": {
      "provenance": [],
      "authorship_tag": "ABX9TyP/CPYKj6bCN5lvyL/XKk5n",
      "include_colab_link": true
    },
    "kernelspec": {
      "name": "python3",
      "display_name": "Python 3"
    },
    "language_info": {
      "name": "python"
    }
  },
  "cells": [
    {
      "cell_type": "markdown",
      "metadata": {
        "id": "view-in-github",
        "colab_type": "text"
      },
      "source": [
        "<a href=\"https://colab.research.google.com/github/krispy11tw/250416/blob/main/%E6%B8%85%E5%96%AE%E8%88%87%E5%AD%97%E5%85%B8.ipynb\" target=\"_parent\"><img src=\"https://colab.research.google.com/assets/colab-badge.svg\" alt=\"Open In Colab\"/></a>"
      ]
    },
    {
      "cell_type": "code",
      "execution_count": null,
      "metadata": {
        "colab": {
          "base_uri": "https://localhost:8080/"
        },
        "id": "9o5HEdba4ATF",
        "outputId": "1e7e2bba-647f-4d84-a390-5fb9245ba879"
      },
      "outputs": [
        {
          "output_type": "stream",
          "name": "stdout",
          "text": [
            "310 90 30\n",
            "5\n",
            "True\n",
            "30\n",
            "90\n",
            "[50, 80]\n",
            "[50, 80, 60]\n",
            "[30, 50, 80]\n",
            "[50, 80, 60, 90]\n",
            "[30, 80]\n",
            "[30, 80, 90]\n",
            "[50, 60]\n",
            "[90, 60, 80, 50, 30]\n"
          ]
        }
      ],
      "source": [
        "#List型態詳細查詢操作\n",
        "\n",
        "scores = [30, 50, 80, 60, 90]\n",
        "\n",
        "#sum-總和,max-取最大值,min-取最小值\n",
        "print(sum(scores), max(scores), min(scores))\n",
        "#len-取list長度\n",
        "print(len(scores))\n",
        "#值 in-該值在list的位置\n",
        "print(60 in scores)\n",
        "\n",
        "\n",
        "#查詢: 查東西[key]\n",
        "print(scores[0])\n",
        "\n",
        "#查list的最後一個值\n",
        "#print(scores[len(scores)-1])\n",
        "print(scores[-1])\n",
        "\n",
        "\n",
        "#查詢一段\n",
        "\n",
        "#從1查到3>>得1,2的值-不包含3的值!!\n",
        "print(scores[1:3])\n",
        "#從1查到最後一個值\n",
        "print(scores[1:-1])\n",
        "#從起始值查到3\n",
        "print(scores[:3])\n",
        "#從1查到最後一位值\n",
        "print(scores[1:])\n",
        "\n",
        "\n",
        "#跳號\n",
        "\n",
        "#從0查到4(不包含4號值),每2個值查一次\n",
        "print(scores[0:4:2])\n",
        "#奇數位的值==從起始值查到末尾值,每2個值查一次\n",
        "print(scores[::2])\n",
        "#偶數位的值==從1查到末尾值,每2個值查一次\n",
        "print(scores[1::2])\n",
        "\n",
        "#反向跳號\n",
        "#從右查到左\n",
        "#print(scores[4:0:-2])\n",
        "#print(scores[-1:0:-2])\n",
        "print(scores[::-1])\n",
        "##[::-1]將list值順序全反轉，必背"
      ]
    },
    {
      "cell_type": "code",
      "source": [
        "# 第一個練習:\n",
        "# 之前的是 a / b 後的十位小數\n",
        "# extra 1. 整除就停下來\n",
        "# extra 2. 如果循環停下來\n",
        "\n",
        "a, b = 20, 700\n",
        "# 來解決a > b的情況\n",
        "result = str(a // b) + \".\"\n",
        "a = a % b\n",
        "\n",
        "# 空的set不能用{}, 這會變成空的字典\n",
        "# 養成好習慣 list() set() dict() 來創空的\n",
        "seen = set()\n",
        "while True:\n",
        "    # 2 -> 20\n",
        "    a10 = a * 10\n",
        "    # 每當看到一個新的數字, 就加進去\n",
        "    if a10 in seen:\n",
        "        print(\"循環了\")\n",
        "        break\n",
        "    else:\n",
        "        seen.add(a10)\n",
        "    # 20 // 7\n",
        "    result = result + str(a10 // b)\n",
        "    # 20 % 7 -> 6(a)\n",
        "    a = a10 % b\n",
        "    if a == 0:\n",
        "        break\n",
        "print(result)"
      ],
      "metadata": {
        "colab": {
          "base_uri": "https://localhost:8080/"
        },
        "id": "JKzSrocXUgj-",
        "outputId": "9829a41f-0148-4deb-efe7-50820ee99128"
      },
      "execution_count": null,
      "outputs": [
        {
          "output_type": "stream",
          "name": "stdout",
          "text": [
            "循環了\n",
            "0.0285714\n"
          ]
        }
      ]
    },
    {
      "cell_type": "markdown",
      "source": [
        "**迴圈必背SOP:\n",
        "\n",
        "1.走過群集(str/list...):for 名稱 in 群\n",
        "\n",
        "2.固定次數型的迴圈:for i in range(次)\n",
        "\n",
        "3.其他條件迴圈:while(Ture+break)\n"
      ],
      "metadata": {
        "id": "A13cGQvjtcL2"
      }
    },
    {
      "cell_type": "code",
      "source": [
        "#for in 操作\n",
        "#題目:1+2+3+...+10\n",
        "\n",
        "#while迴圈的寫法\n",
        "total = 0\n",
        "i = 0\n",
        "while i < 10:\n",
        "    total = total + (i + 1)\n",
        "    print(total)\n",
        "    i = i + 1\n",
        "\n",
        "#for in迴圈的寫法\n",
        "total = 0\n",
        "for i in range(10):\n",
        "    total = total + (i + 1)\n",
        "    print(total)"
      ],
      "metadata": {
        "id": "rRVvwMSitOlX"
      },
      "execution_count": null,
      "outputs": []
    },
    {
      "cell_type": "code",
      "source": [
        "#字典型態\n",
        "\n",
        "person = {\n",
        "    \"name\":\"Krispy\",\n",
        "    \"height\":160\n",
        "}\n",
        "print(person)\n",
        "# 名稱 -> 字典[key]\n",
        "\n",
        "# print(name)\n",
        "print(person[\"name\"])\n",
        "# weight = 60\n",
        "person[\"weight\"] = 60\n",
        "print(person)\n",
        "# height = height + 5\n",
        "person[\"height\"] = person[\"height\"] + 5\n",
        "print(person)\n",
        "\n",
        "#del 操作\n",
        "del person[\"name\"]\n",
        "print(person)"
      ],
      "metadata": {
        "colab": {
          "base_uri": "https://localhost:8080/"
        },
        "id": "584xHdd6vf6C",
        "outputId": "f4584e56-1e55-408c-936d-da33ef851642"
      },
      "execution_count": 5,
      "outputs": [
        {
          "output_type": "stream",
          "name": "stdout",
          "text": [
            "{'name': 'Krispy', 'height': 160}\n",
            "Krispy\n",
            "{'name': 'Krispy', 'height': 160, 'weight': 60}\n",
            "{'name': 'Krispy', 'height': 165, 'weight': 60}\n",
            "{'height': 165, 'weight': 60}\n"
          ]
        }
      ]
    },
    {
      "cell_type": "code",
      "source": [
        "# JSON格式\n",
        "# 使用list和dict的格式\n",
        "exhibitions = [\n",
        "    {\n",
        "        \"名稱\":\"史前恐龍特展\",\n",
        "        \"展出地點\":[0, 1]\n",
        "    },\n",
        "     {\n",
        "         \"名稱\":\"天文特展\",\n",
        "         \"展出地點\":[1, 2]\n",
        "     }\n",
        "]"
      ],
      "metadata": {
        "id": "BeU9KZa4xNEq"
      },
      "execution_count": null,
      "outputs": []
    }
  ]
}