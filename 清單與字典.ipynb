{
  "nbformat": 4,
  "nbformat_minor": 0,
  "metadata": {
    "colab": {
      "provenance": [],
      "authorship_tag": "ABX9TyMeByQeiTRaC3jIgbQNq/IO",
      "include_colab_link": true
    },
    "kernelspec": {
      "name": "python3",
      "display_name": "Python 3"
    },
    "language_info": {
      "name": "python"
    }
  },
  "cells": [
    {
      "cell_type": "markdown",
      "metadata": {
        "id": "view-in-github",
        "colab_type": "text"
      },
      "source": [
        "<a href=\"https://colab.research.google.com/github/krispy11tw/250416/blob/main/%E6%B8%85%E5%96%AE%E8%88%87%E5%AD%97%E5%85%B8.ipynb\" target=\"_parent\"><img src=\"https://colab.research.google.com/assets/colab-badge.svg\" alt=\"Open In Colab\"/></a>"
      ]
    },
    {
      "cell_type": "code",
      "execution_count": 1,
      "metadata": {
        "colab": {
          "base_uri": "https://localhost:8080/"
        },
        "id": "9o5HEdba4ATF",
        "outputId": "1e7e2bba-647f-4d84-a390-5fb9245ba879"
      },
      "outputs": [
        {
          "output_type": "stream",
          "name": "stdout",
          "text": [
            "310 90 30\n",
            "5\n",
            "True\n",
            "30\n",
            "90\n",
            "[50, 80]\n",
            "[50, 80, 60]\n",
            "[30, 50, 80]\n",
            "[50, 80, 60, 90]\n",
            "[30, 80]\n",
            "[30, 80, 90]\n",
            "[50, 60]\n",
            "[90, 60, 80, 50, 30]\n"
          ]
        }
      ],
      "source": [
        "#List型態詳細查詢操作\n",
        "\n",
        "scores = [30, 50, 80, 60, 90]\n",
        "\n",
        "#sum-總和,max-取最大值,min-取最小值\n",
        "print(sum(scores), max(scores), min(scores))\n",
        "#len-取list長度\n",
        "print(len(scores))\n",
        "#值 in-該值在list的位置\n",
        "print(60 in scores)\n",
        "\n",
        "\n",
        "#查詢: 查東西[key]\n",
        "print(scores[0])\n",
        "\n",
        "#查list的最後一個值\n",
        "#print(scores[len(scores)-1])\n",
        "print(scores[-1])\n",
        "\n",
        "\n",
        "#查詢一段\n",
        "\n",
        "#從1查到3>>得1,2的值-不包含3的值!!\n",
        "print(scores[1:3])\n",
        "#從1查到最後一個值\n",
        "print(scores[1:-1])\n",
        "#從起始值查到3\n",
        "print(scores[:3])\n",
        "#從1查到最後一位值\n",
        "print(scores[1:])\n",
        "\n",
        "\n",
        "#跳號\n",
        "\n",
        "#從0查到4(不包含4號值),每2個值查一次\n",
        "print(scores[0:4:2])\n",
        "#奇數位的值==從起始值查到末尾值,每2個值查一次\n",
        "print(scores[::2])\n",
        "#偶數位的值==從1查到末尾值,每2個值查一次\n",
        "print(scores[1::2])\n",
        "\n",
        "#反向跳號\n",
        "#從右查到左\n",
        "#print(scores[4:0:-2])\n",
        "#print(scores[-1:0:-2])\n",
        "print(scores[::-1])\n",
        "##[::-1]將list值順序全反轉，必背"
      ]
    }
  ]
}