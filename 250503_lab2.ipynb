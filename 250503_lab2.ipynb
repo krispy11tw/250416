{
  "nbformat": 4,
  "nbformat_minor": 0,
  "metadata": {
    "colab": {
      "provenance": [],
      "authorship_tag": "ABX9TyNHgMhV/GSzzp+HC59qGmxx",
      "include_colab_link": true
    },
    "kernelspec": {
      "name": "python3",
      "display_name": "Python 3"
    },
    "language_info": {
      "name": "python"
    }
  },
  "cells": [
    {
      "cell_type": "markdown",
      "metadata": {
        "id": "view-in-github",
        "colab_type": "text"
      },
      "source": [
        "<a href=\"https://colab.research.google.com/github/krispy11tw/250416/blob/main/250503_lab2.ipynb\" target=\"_parent\"><img src=\"https://colab.research.google.com/assets/colab-badge.svg\" alt=\"Open In Colab\"/></a>"
      ]
    },
    {
      "cell_type": "code",
      "execution_count": null,
      "metadata": {
        "id": "KXirYhGVIdIg"
      },
      "outputs": [],
      "source": [
        "# POST練習\n",
        "import requests\n",
        "import json\n",
        "import pandas as pd\n",
        "\n",
        "url = \"https://www.thsrc.com.tw/TimeTable/Search\"\n",
        "payload = {\n",
        "    \"SearchType\": \"S\",\n",
        "    \"Lang\": \"TW\",\n",
        "    \"StartStation\": \"TaiPei\",\n",
        "    \"EndStation\": \"ZuoYing\",\n",
        "    \"OutWardSearchDate\": \"2025/05/03\",\n",
        "    \"OutWardSearchTime\": \"15:30\",\n",
        "    \"ReturnSearchDate\": \"2025/05/03\",\n",
        "    \"ReturnSearchTime\": \"15:30\",\n",
        "    \"DiscountType\":\"\",\n",
        "}\n",
        "resp = requests.post(url, payload)\n",
        "resp_data = json.loads(resp.text)\n",
        "data = resp_data[\"data\"]\n",
        "depart_train_items = data[\"DepartureTable\"][\"TrainItem\"]\n",
        "df =pd.json_normalize(depart_train_items)\n",
        "df.to_csv(\"thsr.csv\", encoding=\"utf-8\")"
      ]
    },
    {
      "cell_type": "markdown",
      "source": [
        "`````\n",
        "下次上課前設置好環境 ：\n",
        "\n",
        "回去 python + pycharm\n",
        "\n",
        "安裝undetected-chromedriver\n",
        "\n",
        "1. pip install undet....\n",
        "2. Settings->Project->Python Intepreter->+\n",
        "\n",
        "遇到這個問題\n",
        "ModuleNotFoundError: No module named 'distutils'\n",
        "\n",
        "pip install --upgrade setuptools\n",
        "\n",
        "\n",
        "遇到瀏覽器版本太舊\n",
        "... -> 關於 -> 更新chrome\n",
        "\n",
        "做完以後試下面這段程式碼\n",
        "`````"
      ],
      "metadata": {
        "id": "qloUTxOPS9Oe"
      }
    },
    {
      "cell_type": "code",
      "source": [
        "import time\n",
        "from selenium import webdriver\n",
        "from selenium.webdriver.common.by import By\n",
        "from selenium.webdriver.common.keys import Keys\n",
        "\n",
        "import urllib.request as req\n",
        "import undetected_chromedriver as uc\n",
        "import os\n",
        "import time\n",
        "\n",
        "\n",
        "if __name__ == '__main__':\n",
        "    driver = uc.Chrome(use_subprocess=False)\n",
        "    driver.get(\"https://www.google.com\")\n",
        "    driver.maximize_window()\n",
        "    time.sleep(10)"
      ],
      "metadata": {
        "id": "vVI36zvpTG_G"
      },
      "execution_count": null,
      "outputs": []
    }
  ]
}