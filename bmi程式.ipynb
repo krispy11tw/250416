{
  "nbformat": 4,
  "nbformat_minor": 0,
  "metadata": {
    "colab": {
      "provenance": [],
      "authorship_tag": "ABX9TyN6Jp1Z0U9Zp28S/SAPe9kV",
      "include_colab_link": true
    },
    "kernelspec": {
      "name": "python3",
      "display_name": "Python 3"
    },
    "language_info": {
      "name": "python"
    }
  },
  "cells": [
    {
      "cell_type": "markdown",
      "metadata": {
        "id": "view-in-github",
        "colab_type": "text"
      },
      "source": [
        "<a href=\"https://colab.research.google.com/github/krispy11tw/250416/blob/main/bmi%E7%A8%8B%E5%BC%8F.ipynb\" target=\"_parent\"><img src=\"https://colab.research.google.com/assets/colab-badge.svg\" alt=\"Open In Colab\"/></a>"
      ]
    },
    {
      "cell_type": "code",
      "execution_count": 7,
      "metadata": {
        "colab": {
          "base_uri": "https://localhost:8080/"
        },
        "id": "gxE9G_2VjrIl",
        "outputId": "cfb48803-2be5-4167-f98a-c04b97691b17"
      },
      "outputs": [
        {
          "output_type": "stream",
          "name": "stdout",
          "text": [
            "請輸入體重50\n",
            "請輸入身高150\n",
            "你的體重是50.0\n",
            "你的身高是150.0\n",
            "你的bmi為22.22222222222222\n",
            "正常\n",
            "------------------------------\n"
          ]
        }
      ],
      "source": [
        "# bmi: weight(kg) / height(m) ^ 2\n",
        "weight = float(input(\"請輸入體重\"))\n",
        "height = float(input(\"請輸入身高\"))\n",
        "bmi = weight / (height / 100) ** 2\n",
        "print(\"你的體重是\" + str(weight))\n",
        "print(\"你的身高是\" + str(height))\n",
        "print(\"你的bmi為\" + str(bmi))\n",
        "\n",
        "if bmi > 25:\n",
        "    print(\"體重過重，請注意飲食\")\n",
        "else:\n",
        "    print(\"正常\")\n",
        "print(\"-\" * 30)"
      ]
    },
    {
      "cell_type": "markdown",
      "source": [
        "** print( ) >> 括號裡用\" \"表示者為字串，直接列印。但可於括號內用 + 號進行列印組合。\n",
        "\n",
        "** 注意型態轉換!!\n",
        "   int  >>整數\n",
        "   float>>小數\n",
        "   str  >>字串\n",
        "\n",
        "** if/else 條件判斷:請注意縮排"
      ],
      "metadata": {
        "id": "ms4sT7oMnJV3"
      }
    }
  ]
}