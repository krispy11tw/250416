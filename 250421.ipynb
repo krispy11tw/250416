{
  "nbformat": 4,
  "nbformat_minor": 0,
  "metadata": {
    "colab": {
      "provenance": [],
      "authorship_tag": "ABX9TyP5WfumFXg37pVu5nRA8C9t",
      "include_colab_link": true
    },
    "kernelspec": {
      "name": "python3",
      "display_name": "Python 3"
    },
    "language_info": {
      "name": "python"
    }
  },
  "cells": [
    {
      "cell_type": "markdown",
      "metadata": {
        "id": "view-in-github",
        "colab_type": "text"
      },
      "source": [
        "<a href=\"https://colab.research.google.com/github/krispy11tw/250416/blob/main/250421.ipynb\" target=\"_parent\"><img src=\"https://colab.research.google.com/assets/colab-badge.svg\" alt=\"Open In Colab\"/></a>"
      ]
    },
    {
      "cell_type": "markdown",
      "source": [
        "Python群集型態\n",
        "1. List(清單): [30, 20, 40]\n",
        "    - 放同類型的東西\n",
        "2. Dict(字典): {\"姓名\":\"Elwing\", \"身高\":175}\n",
        "    - 拿來聚合成一個複雜的資料\n",
        "前兩個最重要, 因為這兩個加起來就是JSON格式\n",
        "3. Set(不重複的集合): {\"周\", \"王\", \"何\"}\n",
        "    - 全台灣所有的姓氏集合(Set)\n",
        "    - 所有大於3小於10的整數(Set)\n",
        "    - 是不會讓你自訂key的(沒有key)\n",
        "    - 不重複, 所以你寫幾次都只會幫你保留一個\n",
        "    - 因為沒有key, 沒有所謂順序\n",
        "4. Tuple(簡化版本的字典): ()\n",
        "    - 一個pixel: {\"R\":255, \"G\":255, \"B\":255}\n",
        "    - 對於我們來說, rgb有共識的, 簡化一下 (255, 255, 255)\n",
        "    - 你可以把他想成 {0:255, 1:255, 2:255}\n",
        "    - tuple的key是0 1 2\n",
        "    - !!! tuple可以當成字典的key(因為key必須是永不可變的東西)\n",
        "    - !!! 字典key必須是不可變"
      ],
      "metadata": {
        "id": "ifr1PEaRIJ0z"
      }
    },
    {
      "cell_type": "code",
      "execution_count": null,
      "metadata": {
        "id": "WQLrw8rmB-aA"
      },
      "outputs": [],
      "source": [
        "s = {\"周\", \"王\", \"黃\", \"周\"}\n",
        "print(s)\n",
        "\n",
        "print(\"王\" in s)\n",
        "print(\"趙\" in s)\n",
        "\n",
        "for name in s:\n",
        "    print(\"-\", name)\n",
        "\n",
        "# 聯集/交集/減急\n",
        "\n",
        "A = {30, 20, 40, 50}\n",
        "B = {20, 40, 60, 70}\n",
        "# 交集(&):我們共有的\n",
        "print(A & B)\n",
        "# 聯集(|):列出所有的\n",
        "print(A | B)\n",
        "# 減集(-):A - B == A - (A 交集 B)\n",
        "print(A - B)\n",
        "\n",
        "# set的專屬功能跟list的專屬功能是一樣的\n",
        "# 就是直接作用\n",
        "A.add(199)\n",
        "print(A)\n",
        "\n",
        "# 如果你今天丟一個在裡面的東西 remove=discard\n",
        "# 如果你今天丟一個不在裡面的東西 remove會出紅字 discard不做事\n",
        "A.discard(200)\n",
        "print(A)\n",
        "\n",
        "# add一定要記, discard就盡量"
      ]
    }
  ]
}