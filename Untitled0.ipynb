{
  "nbformat": 4,
  "nbformat_minor": 0,
  "metadata": {
    "colab": {
      "provenance": [],
      "authorship_tag": "ABX9TyPCGinCbPOmmEDQezkVZ4Kk",
      "include_colab_link": true
    },
    "kernelspec": {
      "name": "python3",
      "display_name": "Python 3"
    },
    "language_info": {
      "name": "python"
    }
  },
  "cells": [
    {
      "cell_type": "markdown",
      "metadata": {
        "id": "view-in-github",
        "colab_type": "text"
      },
      "source": [
        "<a href=\"https://colab.research.google.com/github/krispy11tw/250416/blob/main/Untitled0.ipynb\" target=\"_parent\"><img src=\"https://colab.research.google.com/assets/colab-badge.svg\" alt=\"Open In Colab\"/></a>"
      ]
    },
    {
      "cell_type": "code",
      "execution_count": null,
      "metadata": {
        "id": "Ke047EmFr4ZI"
      },
      "outputs": [],
      "source": [
        "#基礎迴圈(必背)\n",
        "\n",
        "i=0\n",
        "while i<10:\n",
        "    print(i,\n",
        "          i*2,\n",
        "          i*2+1,\n",
        "          100-i*3)\n",
        "    i=i+1"
      ]
    },
    {
      "cell_type": "code",
      "source": [
        "#練習:三角形圖案與金字塔迴圈\n",
        "\n",
        "#練習1:正三角形\n",
        "left,right = \" \",\"+\"\n",
        "layer = 10\n",
        "i =0\n",
        "while i<10:\n",
        "    lcount = layer -i-1\n",
        "    rcount = i+1\n",
        "    print(left*lcount + right*rcount)\n",
        "    i=i+1\n",
        "print(\"=\" * 30)\n",
        "\n",
        "#練習2:倒三角形\n",
        "left,right = \"+\",\" \"\n",
        "layer = 10\n",
        "i = 0\n",
        "while i < layer:\n",
        "    lcount = layer - i - 1\n",
        "    rcount = i + 1\n",
        "    print(left*lcount + right*rcount)\n",
        "    i = i + 1\n",
        "print(\"=\" * 30)\n",
        "\n",
        "#練習3:金字塔\n",
        "left, midle, right = \" \", \"-\" , \" \"\n",
        "layer = 10\n",
        "i = 0\n",
        "while i < layer:\n",
        "    lcount, rcount = i, i\n",
        "    mcount = (layer * 2 - 1) - i * 2\n",
        "    print(left * lcount +\n",
        "          midle * mcount +\n",
        "          right * rcount)\n",
        "    i = i + 1"
      ],
      "metadata": {
        "colab": {
          "base_uri": "https://localhost:8080/"
        },
        "id": "VJI75IxjsJuo",
        "outputId": "6b471476-4f4d-450d-9876-27f693bcc510"
      },
      "execution_count": 4,
      "outputs": [
        {
          "output_type": "stream",
          "name": "stdout",
          "text": [
            "         +\n",
            "        ++\n",
            "       +++\n",
            "      ++++\n",
            "     +++++\n",
            "    ++++++\n",
            "   +++++++\n",
            "  ++++++++\n",
            " +++++++++\n",
            "++++++++++\n",
            "==============================\n",
            "+++++++++ \n",
            "++++++++  \n",
            "+++++++   \n",
            "++++++    \n",
            "+++++     \n",
            "++++      \n",
            "+++       \n",
            "++        \n",
            "+         \n",
            "          \n",
            "==============================\n",
            "-------------------\n",
            " ----------------- \n",
            "  ---------------  \n",
            "   -------------   \n",
            "    -----------    \n",
            "     ---------     \n",
            "      -------      \n",
            "       -----       \n",
            "        ---        \n",
            "         -         \n"
          ]
        }
      ]
    }
  ]
}