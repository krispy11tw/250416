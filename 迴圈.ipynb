{
  "nbformat": 4,
  "nbformat_minor": 0,
  "metadata": {
    "colab": {
      "provenance": [],
      "authorship_tag": "ABX9TyMAcIgUxutooR+uPd8Wb7EM",
      "include_colab_link": true
    },
    "kernelspec": {
      "name": "python3",
      "display_name": "Python 3"
    },
    "language_info": {
      "name": "python"
    }
  },
  "cells": [
    {
      "cell_type": "markdown",
      "metadata": {
        "id": "view-in-github",
        "colab_type": "text"
      },
      "source": [
        "<a href=\"https://colab.research.google.com/github/krispy11tw/250416/blob/main/%E8%BF%B4%E5%9C%88.ipynb\" target=\"_parent\"><img src=\"https://colab.research.google.com/assets/colab-badge.svg\" alt=\"Open In Colab\"/></a>"
      ]
    },
    {
      "cell_type": "code",
      "execution_count": null,
      "metadata": {
        "id": "Ke047EmFr4ZI"
      },
      "outputs": [],
      "source": [
        "#基礎迴圈(必背)\n",
        "\n",
        "i=0\n",
        "while i<10:\n",
        "    print(i,\n",
        "          i*2,\n",
        "          i*2+1,\n",
        "          100-i*3)\n",
        "    i=i+1"
      ]
    },
    {
      "cell_type": "code",
      "source": [
        "#練習1:正三角形\n",
        "left,right = \" \",\"+\"\n",
        "layer = 10\n",
        "i =0\n",
        "while i<10:\n",
        "    lcount = layer -i-1\n",
        "    rcount = i+1\n",
        "    print(left*lcount + right*rcount)\n",
        "    i=i+1\n",
        "print(\"-\" * 30)\n"
      ],
      "metadata": {
        "colab": {
          "base_uri": "https://localhost:8080/"
        },
        "id": "VJI75IxjsJuo",
        "outputId": "f9c1a5bc-d665-4010-93de-a73d2d9b24f9"
      },
      "execution_count": 8,
      "outputs": [
        {
          "output_type": "stream",
          "name": "stdout",
          "text": [
            "         +\n",
            "        ++\n",
            "       +++\n",
            "      ++++\n",
            "     +++++\n",
            "    ++++++\n",
            "   +++++++\n",
            "  ++++++++\n",
            " +++++++++\n",
            "++++++++++\n",
            "------------------------------\n"
          ]
        }
      ]
    },
    {
      "cell_type": "code",
      "source": [
        "#練習2:倒三角形\n",
        "left,right = \"+\",\" \"\n",
        "layer = 10\n",
        "i = 0\n",
        "while i < layer:\n",
        "    lcount = layer - i - 1\n",
        "    rcount = i + 1\n",
        "    print(left*lcount + right*rcount)\n",
        "    i = i + 1\n",
        "print(\"-\" * 30)\n"
      ],
      "metadata": {
        "colab": {
          "base_uri": "https://localhost:8080/"
        },
        "id": "lxnafdaXu-jE",
        "outputId": "d84e6978-bbab-479d-f0d8-605eb4286489"
      },
      "execution_count": 9,
      "outputs": [
        {
          "output_type": "stream",
          "name": "stdout",
          "text": [
            "+++++++++ \n",
            "++++++++  \n",
            "+++++++   \n",
            "++++++    \n",
            "+++++     \n",
            "++++      \n",
            "+++       \n",
            "++        \n",
            "+         \n",
            "          \n",
            "------------------------------\n"
          ]
        }
      ]
    },
    {
      "cell_type": "code",
      "source": [
        "#練習3:金字塔\n",
        "left, midle, right = \" \", \"-\" , \" \"\n",
        "layer = 10\n",
        "i = 0\n",
        "while i < layer:\n",
        "    lcount, rcount = i, i\n",
        "    mcount = (layer * 2 - 1) - i * 2\n",
        "    print(left * lcount +\n",
        "          midle * mcount +\n",
        "          right * rcount)\n",
        "    i = i + 1\n",
        "print(\"-\" * 30)\n"
      ],
      "metadata": {
        "colab": {
          "base_uri": "https://localhost:8080/"
        },
        "id": "QPnvMFZ_vF8Q",
        "outputId": "7f8ad9aa-690e-4629-b20a-67643dea1199"
      },
      "execution_count": 10,
      "outputs": [
        {
          "output_type": "stream",
          "name": "stdout",
          "text": [
            "-------------------\n",
            " ----------------- \n",
            "  ---------------  \n",
            "   -------------   \n",
            "    -----------    \n",
            "     ---------     \n",
            "      -------      \n",
            "       -----       \n",
            "        ---        \n",
            "         -         \n",
            "------------------------------\n"
          ]
        }
      ]
    },
    {
      "cell_type": "code",
      "source": [
        "# 指數型迴圈\n",
        "total = 0\n",
        "i = 0\n",
        "while i<10:\n",
        "    total = total +(i+1)\n",
        "    print(total)\n",
        "    i=i+1\n",
        "print(\"-\" * 30)"
      ],
      "metadata": {
        "colab": {
          "base_uri": "https://localhost:8080/"
        },
        "id": "Gbd5IsDQuxQI",
        "outputId": "0560426a-1300-4913-accd-63d6f8710b23"
      },
      "execution_count": 7,
      "outputs": [
        {
          "output_type": "stream",
          "name": "stdout",
          "text": [
            "1\n",
            "3\n",
            "6\n",
            "10\n",
            "15\n",
            "21\n",
            "28\n",
            "36\n",
            "45\n",
            "55\n",
            "------------------------------\n"
          ]
        }
      ]
    },
    {
      "cell_type": "code",
      "source": [
        "# 除法\n",
        "\n",
        "# 2/7->0.2857142857\n",
        "a,b=2,7\n",
        "# ans的0.記得設成字串型態\n",
        "ans = \"0.\"\n",
        "i = 0\n",
        "while i < 10:\n",
        "    # 2->20\n",
        "    a10 = a * 10\n",
        "    # 20//7\n",
        "    ans = ans + str(a10//b)\n",
        "    print(ans)\n",
        "    # 20%7\n",
        "    a = a10 % b\n",
        "    i = i + 1\n",
        "print(\"-\" * 30)"
      ],
      "metadata": {
        "colab": {
          "base_uri": "https://localhost:8080/"
        },
        "id": "FIw15I76ukAZ",
        "outputId": "d9e0313f-5636-406b-c3b8-6c234f3d4b58"
      },
      "execution_count": 12,
      "outputs": [
        {
          "output_type": "stream",
          "name": "stdout",
          "text": [
            "0.2\n",
            "0.28\n",
            "0.285\n",
            "0.2857\n",
            "0.28571\n",
            "0.285714\n",
            "0.2857142\n",
            "0.28571428\n",
            "0.285714285\n",
            "0.2857142857\n",
            "------------------------------\n"
          ]
        }
      ]
    },
    {
      "cell_type": "code",
      "source": [
        "#機器人座標練習\n",
        "#機器人初始座標為(0,0)\n",
        "#已知移動座標代號為U:上 D:下 L:左 R:右\n",
        "#現給指令UDDLR，請計算機器人最終座標位置\n",
        "\n",
        "x,y = 0,0\n",
        "commend = \"ULLRDL\"\n",
        "i = 0\n",
        "while i < len(commend):\n",
        "    c = commend[i]\n",
        "    if c == \"U\":\n",
        "        y = y + 1\n",
        "    elif c == \"D\":\n",
        "        y = y - 1\n",
        "    elif c == \"L\":\n",
        "        x = x - 1\n",
        "    elif c == \"R\":\n",
        "        x = x + 1\n",
        "    i = i + 1\n",
        "print(x,y)\n",
        "#最後一行的print要在迴圈外面，才能解出c的所有值加總答案"
      ],
      "metadata": {
        "colab": {
          "base_uri": "https://localhost:8080/"
        },
        "id": "y37uRg70vcjQ",
        "outputId": "c4805b92-157d-478b-8d63-985d710beb78"
      },
      "execution_count": 15,
      "outputs": [
        {
          "output_type": "stream",
          "name": "stdout",
          "text": [
            "-2 0\n"
          ]
        }
      ]
    },
    {
      "cell_type": "code",
      "source": [
        "#蒙地卡羅法\n",
        "#以多次隨機抽取的(x,y)計算圓周率\n",
        "\n",
        "import random\n",
        "\n",
        "count = 0\n",
        "#累積次數從0開始數\n",
        "total = 10000000\n",
        "#迴圈總共跑幾次\n",
        "i =0\n",
        "while i< total:\n",
        "    #對於這次隨機的x值y值\n",
        "    x = random.uniform(-1, 1)\n",
        "    y = random.uniform(-1, 1)\n",
        "    #如果這座標在圓裡面，則累積次數增加1次\n",
        "    if x**2 + y**2 <= 1:\n",
        "        count = count + 1\n",
        "    i = i+1\n",
        "#圓形裡面/全部*參照物面積\n",
        "radio = count/total\n",
        "print(radio*4)"
      ],
      "metadata": {
        "colab": {
          "base_uri": "https://localhost:8080/"
        },
        "id": "IWhrnS2Xw41J",
        "outputId": "e7b379f9-15cb-4077-9860-ae4fe33dd912"
      },
      "execution_count": 16,
      "outputs": [
        {
          "output_type": "stream",
          "name": "stdout",
          "text": [
            "3.1419164\n"
          ]
        }
      ]
    },
    {
      "cell_type": "markdown",
      "source": [
        "** 蒙地卡羅法:以多次隨機抽取的次數概算不規則或未知圖形的面積，抽取次數越多，面積測算結果越接近實際面積。"
      ],
      "metadata": {
        "id": "bJJYY03Zxfpp"
      }
    },
    {
      "cell_type": "code",
      "source": [
        "#剪刀石頭布的輸贏判斷程式\n",
        "\n",
        "#剪刀,石頭,布依序為 0,1,2\n",
        "#先贏三把者獲勝\n",
        "#玩家均取隨機數\n",
        "\n",
        "\n",
        "import random\n",
        "win,lose = 0,0\n",
        "while win<3 and lose<3:\n",
        "    # -1:lose 0:even 1:win\n",
        "    result = random.randint(-1,1)\n",
        "    print(result)\n",
        "    if result == -1:\n",
        "        lose = lose+1\n",
        "    elif result == 1:\n",
        "        win = win+1\n",
        "if win > lose:\n",
        "    print(\"WIN\")\n",
        "else:\n",
        "    print(\"LOSE\")\n",
        "print(\"-\" * 30)"
      ],
      "metadata": {
        "colab": {
          "base_uri": "https://localhost:8080/"
        },
        "id": "2E4dTEW2yD9S",
        "outputId": "a7188b61-a5b7-41f4-a954-db7c45db7ed2"
      },
      "execution_count": 23,
      "outputs": [
        {
          "output_type": "stream",
          "name": "stdout",
          "text": [
            "-1\n",
            "1\n",
            "0\n",
            "0\n",
            "1\n",
            "1\n",
            "WIN\n",
            "------------------------------\n"
          ]
        }
      ]
    },
    {
      "cell_type": "code",
      "source": [
        "#無窮迴圈(while True寫法)\n",
        "\n",
        "#剪刀,石頭,布依序為 0,1,2\n",
        "#先贏三把者獲勝\n",
        "#玩家均取隨機數\n",
        "\n",
        "import random\n",
        "win,lose = 0,0\n",
        "while True:\n",
        "    # -1:lose 0:even 1:win\n",
        "    result = random.randint(-1,1)\n",
        "    print(result)\n",
        "    if result == -1:\n",
        "        lose = lose+1\n",
        "    elif result == 1:\n",
        "        win = win+1\n",
        "    if win == 3:\n",
        "        print(\"WIN\")\n",
        "        break\n",
        "    elif lose == 3:\n",
        "        print(\"LOSE\")\n",
        "        break\n",
        "print(\"-\" * 30)"
      ],
      "metadata": {
        "colab": {
          "base_uri": "https://localhost:8080/"
        },
        "id": "Mt8_dAE0y5JU",
        "outputId": "48295455-6eb2-401c-9796-c0ab23d26209"
      },
      "execution_count": 24,
      "outputs": [
        {
          "output_type": "stream",
          "name": "stdout",
          "text": [
            "-1\n",
            "1\n",
            "-1\n",
            "1\n",
            "0\n",
            "0\n",
            "1\n",
            "WIN\n",
            "------------------------------\n"
          ]
        }
      ]
    },
    {
      "cell_type": "code",
      "source": [
        "#取餘數及早停止\n",
        "#題:印出十位小數,增加提早停止機制\n",
        "\n",
        "a, b = 3, 5\n",
        "ans = \"0.\"\n",
        "i = 0\n",
        "while i < 10:\n",
        "    a10 = a * 10\n",
        "    ans = ans + str(a10//b)\n",
        "    print(ans)\n",
        "    a = a10 % b\n",
        "    if a == 0:\n",
        "        break\n",
        "    i = i + 1"
      ],
      "metadata": {
        "colab": {
          "base_uri": "https://localhost:8080/"
        },
        "id": "vRKOKQfbztXI",
        "outputId": "c984733c-1d78-45b4-9fa7-9d7753cdf546"
      },
      "execution_count": 25,
      "outputs": [
        {
          "output_type": "stream",
          "name": "stdout",
          "text": [
            "0.6\n"
          ]
        }
      ]
    },
    {
      "cell_type": "markdown",
      "source": [
        "**取餘數練習步驟:\n",
        "1.補0 ,也就是 [ x10 ]\n",
        "2.取商,也就是 [ // ]\n",
        "3.取餘,也就是 [ % ]"
      ],
      "metadata": {
        "id": "Xf7o_g8m0G1E"
      }
    },
    {
      "cell_type": "code",
      "source": [
        "#終極密碼程式\n",
        "\n",
        "#請由0-100內之整數，隨機選擇數字\n",
        "#猜高了，則下一次循環的最高值域更為該次數字\n",
        "#猜低了，則下一次循環的最低值域更為該次數字\n",
        "\n",
        "import random\n",
        "\n",
        "low, high = 1, 100\n",
        "ans = random.randint(low+1, high-1)\n",
        "\n",
        "while True:\n",
        "    while True:\n",
        "        print(\"請輸入\", low, \"-\", high, \":\")\n",
        "        guess = int(input())\n",
        "        if low < guess < high:\n",
        "            break\n",
        "        else:\n",
        "            print(\"請輸入正確的數值區間\")\n",
        "    if guess > ans:\n",
        "        print(\"猜大了\")\n",
        "        high = guess\n",
        "    elif guess < ans:\n",
        "        print(\"猜小了\")\n",
        "        low = guess\n",
        "    else:\n",
        "        print(\"你猜對了!!\")\n"
      ],
      "metadata": {
        "id": "Ft8hSnxY0omj"
      },
      "execution_count": null,
      "outputs": []
    }
  ]
}