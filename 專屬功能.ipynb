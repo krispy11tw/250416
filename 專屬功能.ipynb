{
  "nbformat": 4,
  "nbformat_minor": 0,
  "metadata": {
    "colab": {
      "provenance": [],
      "authorship_tag": "ABX9TyOYj1vAtxOfFJARitMP+kBJ",
      "include_colab_link": true
    },
    "kernelspec": {
      "name": "python3",
      "display_name": "Python 3"
    },
    "language_info": {
      "name": "python"
    }
  },
  "cells": [
    {
      "cell_type": "markdown",
      "metadata": {
        "id": "view-in-github",
        "colab_type": "text"
      },
      "source": [
        "<a href=\"https://colab.research.google.com/github/krispy11tw/250416/blob/main/%E5%B0%88%E5%B1%AC%E5%8A%9F%E8%83%BD.ipynb\" target=\"_parent\"><img src=\"https://colab.research.google.com/assets/colab-badge.svg\" alt=\"Open In Colab\"/></a>"
      ]
    },
    {
      "cell_type": "markdown",
      "source": [
        "**專屬功能:\n",
        "\n",
        "參數對象.功能(其他參數)\n",
        "\n",
        "\n",
        "**其他(普通)功能:\n",
        "\n",
        "功能(參數對象,參數)"
      ],
      "metadata": {
        "id": "fOacck_Ezyiu"
      }
    },
    {
      "cell_type": "code",
      "execution_count": null,
      "metadata": {
        "id": "udUDi-GfyOkL"
      },
      "outputs": [],
      "source": [
        "# 專屬功能:\n",
        "# 檔案讀寫\n",
        "f = open(\"a.txt\", \"w\", encoding = \"utf-8\")\n",
        "# 以前寫法: write(f, \"abc\")\n",
        "# 專屬功能寫法: f.write(\"abc\")\n",
        "# 跳脫字元: \\n \\t\n",
        "f.write(\"abc\\n\")\n",
        "f.write(\"def\")\n",
        "# 以前寫法: close(f)\n",
        "# 專屬功能寫法: f.close\n",
        "f.close()\n",
        "\n",
        "f =open(\"main.py\", \"r\", encoding = \"utf-8\")\n",
        "# 以前: s = read(f)\n",
        "# 專屬功能寫法: s = f.read()\n",
        "s = f.read()\n",
        "f.close()\n",
        "\n",
        "print(s)"
      ]
    }
  ]
}